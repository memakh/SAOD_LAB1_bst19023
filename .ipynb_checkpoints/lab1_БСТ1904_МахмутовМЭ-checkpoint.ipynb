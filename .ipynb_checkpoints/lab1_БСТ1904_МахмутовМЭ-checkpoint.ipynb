{
 "cells": [
  {
   "cell_type": "markdown",
   "id": "cardiovascular-parade",
   "metadata": {},
   "source": [
    "# Лабораторная работа №1\n",
    "## Выполнил студент группы БСТ1904 Махмутов М.Э.\n",
    "### Задание №1\n",
    "Получить основные навыки работы с jupyter notebook."
   ]
  },
  {
   "cell_type": "code",
   "execution_count": 2,
   "id": "utility-plane",
   "metadata": {},
   "outputs": [
    {
     "name": "stdout",
     "output_type": "stream",
     "text": [
      "Hello, world!\n"
     ]
    }
   ],
   "source": [
    "print(\"Hello, world!\")"
   ]
  },
  {
   "cell_type": "markdown",
   "id": "decreased-snapshot",
   "metadata": {},
   "source": [
    "### Задание №2\n",
    "Написать генератор случайных матриц(многомерных), который принимает опциональные параметры m, n, min_limit, max_limit, где m и n указывают размер матрицы, а min_lim и max_lim - минимальное и максимальное значение для генерируемого числа. По умолчанию при отсутствии параметров принимать следующие значения: \n",
    "m = 50\n",
    "n = 50\n",
    "min_limit = -250\n",
    "max_limit = 1000 + (номер своего варианта)"
   ]
  },
  {
   "cell_type": "code",
   "execution_count": 2,
   "id": "caring-sussex",
   "metadata": {},
   "outputs": [
    {
     "name": "stdout",
     "output_type": "stream",
     "text": [
      "\n",
      " 119  570  120  416  200  -49  834  413 -249  505 -203  303  817  820 -104  -82   -7  612 -147  426 \n",
      "-190  385 -127  435  599  462  410  983  849  616  900   36  860  409   73  400   74  507  999  235 \n",
      " 626  173 -124  469  -90  -77  718  384  312  264  -94  391  981  782  794  812  286  974   37  302 \n",
      "   8 -222  437  131  883   41  859  762 1007  728  899  902  -53 -155 -233  323   39 -134  682  930 \n",
      " -28 -102 -116   49  -14 -138  528  969  985  423  603  487  769  945  -79  278  501  863  589  662 \n",
      " 406  920  571  737  178  549  952  208  881  613  607  112  513  661 -152  839  621  698  -96  646 \n",
      " 505 1010  -13 -242   89  399  538  616  730  938   56  248  -55  331  440  889  963  746  375  278 \n",
      " -66  322  708  639  889  -13  817  592  873  676  484  686  193  529  572  476  791  772  645 -132 \n",
      " 958  888 -161    5  783  524  429  826   48  917  117  915  984  384  824  862  696  684  -93  705 \n",
      " 233 -195  -41  232  756  615  430  403  -92  301  803   18  546   94  278  560  357  752  830  309 \n",
      "  67  559 -218 -246  666  290  785  484  860  998  -40   15  -35  338  762   59  642 -115  586  874 \n",
      " 939  571  962 1003  331  265  937  -53  752  294  126  713 -115  616  495  473    9 -180   31  459 \n",
      " 943  616  402 -110  430  634   -6  911  970 -132  269  569  648  433  911  466  545  789  -83 -220 \n",
      " 240  818 -229  897  466  -92  107  121   16  806 -218 -144  659  160  263  792  320  854  663  382 \n",
      " 871   -5  151  491  538  116  826  624  343  -58  576  396  461  940 -246   91  980  636  901  -62 \n",
      " 687  559  187  575  426  715  509  955  565  928  784  775 -217  415  650  380  548  101  272  266 \n",
      "-158   72  163  -95  101  970  617  -24  407   -5 -190  945 -170 -109  825  910 -219  481  957  -33 \n",
      " 440  564   46  813  319  479  459  876    1   -1 -208  550  248  948 -174  743  715  167 1008    4 \n",
      " 355  912  889  -95  762  508   85  765  865  836  225  620  868 -238  717 -168  493  941  705  -90 \n",
      " 202  896  499  262  -30   85  155  456  889  286 -129   65  122  558  958  231  310  915 -198  136 "
     ]
    }
   ],
   "source": [
    "import random as rnd\n",
    "\n",
    "# Для генерации двумерной матрицы, заполнение листа\n",
    "def generate(m = 50, n = 50, min_limit = -250, max_limit = 1011):\n",
    "    a = []\n",
    "    for i in range(m):\n",
    "        a.append([])\n",
    "        for j in range(n):\n",
    "            r = rnd.randint(min_limit, max_limit)\n",
    "            a[i].append(r)\n",
    "    return a\n",
    "\n",
    "# Для вывода двумерной матрицы\n",
    "def display(a):\n",
    "    for line in a:\n",
    "        print()\n",
    "        for elem in line:\n",
    "            print(f'{elem:4}', end = ' ')\n",
    "\n",
    "m, n = 20, 20\n",
    "a = generate(m, n)\n",
    "display(a)"
   ]
  },
  {
   "cell_type": "markdown",
   "id": "iraqi-edgar",
   "metadata": {},
   "source": [
    "### Задание №3\n",
    "Реализовать методы сортировки строк числовой матрицы в соответствии с\n",
    "заданием. Оценить время работы каждого алгоритма сортировки и сравнить его со\n",
    "временем стандартной функции сортировки. Испытания проводить на сгенерированных\n",
    "матрицах.\n",
    "Методы: Выбором, Вставкой, Обменом, Шелла, Турнирная, Быстрая сортировка, Пирамидальная"
   ]
  },
  {
   "cell_type": "code",
   "execution_count": 102,
   "id": "contrary-flexibility",
   "metadata": {},
   "outputs": [
    {
     "name": "stdout",
     "output_type": "stream",
     "text": [
      "selection sort took 0.009001731872558594 seconds\n"
     ]
    }
   ],
   "source": [
    "import time\n",
    "\n",
    "# Сортировка строк выбором\n",
    "def selection_sort(a):\n",
    "    for line in a:\n",
    "        # Ищем индекс минимального элемента, перемещаем к уже отсортированной части\n",
    "        size = len(line)\n",
    "        for i in range(0, size):\n",
    "            min_j = i\n",
    "            for j in range(i + 1, size):\n",
    "                if (line[j] < line[min_j]):\n",
    "                    min_j = j\n",
    "            if (min_j != i):\n",
    "                # Меняем минимальный элемент с элементом после отсортированной части\n",
    "                line[i], line[min_j] = line[min_j], line[i]\n",
    "\n",
    "m, n = 50, 50\n",
    "a = generate(m, n)\n",
    "start_time = time.time()\n",
    "selection_sort(a)\n",
    "print(\"selection sort took %s seconds\" % (time.time() - start_time))\n",
    "#display(a)"
   ]
  },
  {
   "cell_type": "code",
   "execution_count": 84,
   "id": "detected-europe",
   "metadata": {
    "scrolled": true
   },
   "outputs": [
    {
     "name": "stdout",
     "output_type": "stream",
     "text": [
      "insertion sort took 0.00902247428894043 seconds\n"
     ]
    }
   ],
   "source": [
    "# Сортировка Вставкой\n",
    "def insertion_sort(a):\n",
    "    for line in a:\n",
    "       # Ищем куда нужно вставить очередной элемент, чтобы сохранилась отсортированная часть\n",
    "        size = len(line)\n",
    "        for i in range(1, size):\n",
    "            key = line[i]\n",
    "            j = i - 1\n",
    "            while (i > 0 and line[i] > key):\n",
    "                line[i + 1] = line[i]\n",
    "                i = i - 1\n",
    "            line[i + 1] = key\n",
    "\n",
    "m, n = 50, 50\n",
    "a = generate(m, n)\n",
    "start_time = time.time()\n",
    "selection_sort(a)\n",
    "print(\"insertion sort took %s seconds\" % (time.time() - start_time))\n",
    "#display(a)"
   ]
  },
  {
   "cell_type": "code",
   "execution_count": 101,
   "id": "laden-chaos",
   "metadata": {},
   "outputs": [
    {
     "name": "stdout",
     "output_type": "stream",
     "text": [
      "bubble sort took 0.01000213623046875 seconds\n"
     ]
    }
   ],
   "source": [
    "import time\n",
    "\n",
    "# Сортировка Обменом\n",
    "def bubble_sort(a):\n",
    "    for line in a:\n",
    "       # Проходим по списку и меняем соседние элементы\n",
    "        size = len(line)\n",
    "        swapped = True\n",
    "        while swapped:\n",
    "            swapped = False\n",
    "            for i in range(0, size - 1):\n",
    "                if (line[i] > line[i + 1]):\n",
    "                    line[i], line[i + 1] = line[i + 1], line[i]\n",
    "                    swapped = True\n",
    "\n",
    "m, n = 50, 50\n",
    "a = generate(m, n)\n",
    "start_time = time.time()\n",
    "selection_sort(a)\n",
    "print(\"bubble sort took %s seconds\" % (time.time() - start_time))\n",
    "#display(a)"
   ]
  },
  {
   "cell_type": "code",
   "execution_count": 105,
   "id": "american-hypothetical",
   "metadata": {},
   "outputs": [
    {
     "name": "stdout",
     "output_type": "stream",
     "text": [
      "shell sort took 0.009001970291137695 seconds\n"
     ]
    }
   ],
   "source": [
    "import time\n",
    "\n",
    "# Сортировка Шелла\n",
    "def shell_sort(a):\n",
    "    for line in a:\n",
    "        last_index = len(line) - 1\n",
    "        step = len(line)//2\n",
    "        while step > 0:\n",
    "            for i in range(step, last_index + 1, 1):\n",
    "                j = i\n",
    "                delta = j - step\n",
    "                while delta >= 0 and line[delta] > line[j]:\n",
    "                    line[delta], line[j] = line[j], line[delta]\n",
    "                    j = delta\n",
    "                    delta = j - step\n",
    "            step //= 2\n",
    "\n",
    "m, n = 50, 50\n",
    "a = generate(m, n)\n",
    "start_time = time.time()\n",
    "selection_sort(a)\n",
    "print(\"shell sort took %s seconds\" % (time.time() - start_time))\n",
    "#display(a)"
   ]
  },
  {
   "cell_type": "code",
   "execution_count": null,
   "id": "sought-cleaning",
   "metadata": {},
   "outputs": [],
   "source": [
    "import time\n",
    "import queue\n",
    "\n",
    "# Турнирная сортировка\n",
    "\n",
    "def rotate(l, n):\n",
    "    l = l[n:] + l[:n]\n",
    "    return l[0]\n",
    "        \n",
    "def tournament_sort(a):\n",
    "    for line in a:\n",
    "        line = bracketize(line)\n",
    "\n",
    "MAX_SIZE = 16\n",
    "def bracketize(a):\n",
    "    size = len(a)\n",
    "    pq = queue.PriorityQueue(MAX_SIZE)\n",
    "    # Заполняем очередь первыми элементами\n",
    "    while not pq.full():\n",
    "        pq.put(rotate(a,1))\n",
    "    winners = [] # Сбор \"победителей\"\n",
    "    losers = [] # Сбор \"проигравших\"\n",
    "    \n",
    "    # Пока в основном массиве есть элементы\n",
    "    while not (a == []):\n",
    "        if (winners == []):\n",
    "            # Из корня переносим в массив \"победителей\"\n",
    "            winners.append(pq.get())\n",
    "        \n",
    "        # Если очередной элемент из массива больше, чем последний \"победитель\"\n",
    "        if a[0] > winners[len(winners) - 1]:\n",
    "            pq.put(rotate(a,1)) # Переносим элемент в очередь на вакантное место\n",
    "        else:\n",
    "            losers.append(rotate(a,1))\n",
    "            \n",
    "        # Если куча пока не пуста, корень переносим в массив \"победителей\"\n",
    "        if not pq.empty():\n",
    "            winners.append(pq.get())\n",
    "        \n",
    "    # Основной массив пуст, но может в куче ещё что-то осталось?\n",
    "    while not pq.empty():\n",
    "        winners.append(pq.get()) # Корень переносим в массив \"победителей\"\n",
    "            \n",
    "    # Если массив \"проигравших\" остался пуст, то, значит,\n",
    "    # массив \"победителей\" - итоговый отсортированный массив\n",
    "    if (losers == []):\n",
    "        return winners\n",
    "        \n",
    "    # Если ещё не закончили, то к массиву \"проигравших\"\n",
    "    # припишем массив \"победителей\"\n",
    "    a = losers + winners\n",
    "    while (len(a) > size):\n",
    "        a.pop()\n",
    "    bracketize(a) # Запускаем процесс снова\n",
    "\n",
    "m, n = 20, 20\n",
    "a = generate(m, n)\n",
    "start_time = time.time()\n",
    "tournament_sort(a)\n",
    "print(\"tournament sort took %s seconds\" % (time.time() - start_time))\n",
    "#display(a)\n"
   ]
  },
  {
   "cell_type": "code",
   "execution_count": 73,
   "id": "consistent-playing",
   "metadata": {},
   "outputs": [
    {
     "name": "stdout",
     "output_type": "stream",
     "text": [
      "quick sort took 0.0 seconds\n"
     ]
    }
   ],
   "source": [
    "import time\n",
    "\n",
    "# Быстрая сортировка\n",
    "def quick_sort(a):\n",
    "    less = []\n",
    "    equal = []\n",
    "    greater = []\n",
    "    if len(a) > 1:\n",
    "        pivot = a[0]\n",
    "        for x in a:\n",
    "            if x < pivot:\n",
    "                less.append(x)\n",
    "            elif x == pivot:\n",
    "                equal.append(x)\n",
    "            elif x > pivot:\n",
    "                greater.append(x)\n",
    "        return quick_sort(less)+equal+quick_sort(greater)\n",
    "    else:\n",
    "        return a\n",
    "\n",
    "def quick_sort2d(a):\n",
    "    for i in range(0, len(a)):\n",
    "        a[i] = quick_sort(a[i])\n",
    "        \n",
    "m, n = 20, 20\n",
    "a = generate(m, n)\n",
    "#display(a)\n",
    "start_time = time.time()\n",
    "quick_sort2d(a)\n",
    "print(\"quick sort took %s seconds\" % (time.time() - start_time))\n",
    "#display(a)"
   ]
  },
  {
   "cell_type": "code",
   "execution_count": 82,
   "id": "serious-active",
   "metadata": {},
   "outputs": [
    {
     "name": "stdout",
     "output_type": "stream",
     "text": [
      "\n",
      " 333  290  425  299  809  586  -97 1004  787  279 -197  629  525  538  354 -174 -176  156  -28  592 \n",
      " 347  379  992  822  833   92  890  763 1006  478  257  758 -109  529 -161  463  473  -11   98  241 \n",
      " 352  226  514  372  314  114   99  283  440  173  131  743  931  515   45  775  258  485  696   54 \n",
      " 980  199  470  953  517  346  558  872  100   34  551  116  526  208  564  799  580  524  -75  727 \n",
      " -29 -117   79  756 -112  561 -208  892  692  911  862 -211  963  867  223  570  -59  812  552  192 \n",
      " 313  273  527  749  512  144  456  444 -243  729   57  230 -183  318  100  426  266   37  342  464 \n",
      "-218  773 -151 -125  998  166 -161  670  403  787   65  804  181  942 -135 -159  601  905  414  411 \n",
      " 890 -188  936  -91  607  808 -173  948  443  693  789  884 -231  198  370 -108  692  770 -236 -174 \n",
      "  25 -187  552   35 -131  301 -216   79   53  527  971  994 1004 -134   20  730  243  337  453  552 \n",
      " 905  443   74  257  717  114  -33  481  834  864 -118  609  -63  316  827 -226 -112  371  491  630 \n",
      " 150  278  -76  -96  485 -150 -181   70  229  -43  606  329 -234  418  380  585  551  788  662  172 \n",
      " 618  312  467   80  931 -162  329  337  508  276  664   98  501  162  -77  478  827  -57   24  -70 \n",
      " 759  309  561  316 -214 -124  643  748  903 -158  723  442  229  228  656 -113  193  142  797  283 \n",
      " 104  -98  701  483  647  236  748  370  889 -146  481  -66  723  693 -158  231  486  646  397  939 \n",
      "-174  387  137  696 -144   -7 -218  910 -127  216  736  912  416  184 -107  -46   50   42  234 -131 \n",
      "  -4  748  991 -136  825  -62  263 -106   -7  774    1 -223  202  563 -123  675  402   65  679  721 \n",
      "  -2  979  474    1  832  807  239  145  598 -116  592  210  298  618  780  895 -193  735  991  -53 \n",
      " 772  688  685 -210  974  689  619  -75  533  170 -236  591  597  483  346  787  467  601  389 -100 \n",
      " 717  821  337  104   65  543   21  479   63  925  883  594  523  -40  367 -187  885  653 -234  862 \n",
      " 599  527  -93  427  842 -175  225 -167  455 -204 -181   81  755  310  477  225  715  820   37  312 heap sort took 0.0009999275207519531 seconds\n",
      "\n",
      "-197 -176 -174  -97  -28  156  279  290  299  354  425  525  538  586  592  629  787  809 1004  333 \n",
      "-161 -109  -11   92   98  241  257  379  463  473  478  529  758  763  822  833  890  992 1006  347 \n",
      "  45   54   99  114  131  173  226  258  283  314  372  440  485  514  515  696  743  775  931  352 \n",
      " -75   34  100  116  199  208  346  470  517  524  526  551  558  564  580  727  799  872  953  980 \n",
      "-211 -208 -117 -112  -59   79  192  223  552  561  570  692  756  812  862  867  892  911  963  -29 \n",
      "-243 -183   37   57  100  144  230  266  273  318  342  426  444  456  464  512  527  729  749  313 \n",
      "-161 -159 -151 -135 -125   65  166  181  403  411  414  601  670  773  787  804  905  942  998 -218 \n",
      "-236 -231 -188 -174 -173 -108  -91  198  370  443  607  692  693  770  789  808  884  936  948  890 \n",
      "-216 -187 -134 -131   20   35   53   79  243  301  337  453  527  552  552  730  971  994 1004   25 \n",
      "-226 -118 -112  -63  -33   74  114  257  316  371  443  481  491  609  630  717  827  834  864  905 \n",
      "-234 -181 -150  -96  -76  -43   70  172  229  278  329  380  418  485  551  585  606  662  788  150 \n",
      "-162  -77  -70  -57   24   80   98  162  276  312  329  337  467  478  501  508  664  827  931  618 \n",
      "-214 -158 -124 -113  142  193  228  229  283  309  316  442  561  643  656  723  748  797  903  759 \n",
      "-158 -146  -98  -66  231  236  370  397  481  483  486  646  647  693  701  723  748  889  939  104 \n",
      "-218 -144 -131 -127 -107  -46   -7   42   50  137  184  216  234  387  416  696  736  910  912 -174 \n",
      "-223 -136 -123 -106  -62   -7    1   65  202  263  402  563  675  679  721  748  774  825  991   -4 \n",
      "-193 -116  -53    1  145  210  239  298  474  592  598  618  735  780  807  832  895  979  991   -2 \n",
      "-236 -210 -100  -75  170  346  389  467  483  533  591  597  601  619  685  688  689  787  974  772 \n",
      "-234 -187  -40   21   63   65  104  337  367  479  523  543  594  653  821  862  883  885  925  717 \n",
      "-204 -181 -175 -167  -93   37   81  225  225  310  312  427  455  477  527  715  755  820  842  599 "
     ]
    }
   ],
   "source": [
    "import time\n",
    "\n",
    "# Пирамидальная сортировка\n",
    "def heapify(a, size, i):\n",
    "    largest = i   # Индекс наибольшего значения как значение корня\n",
    "    l = 2 * i + 1 # Индекс левого ребёнка = 2*i + 1 \n",
    "    r = 2 * i + 2 # Индекс правого ребёнка = 2*i + 2\n",
    "    \n",
    "    # Если значение левого ребёнка наибольшее\n",
    "    if (l < size and a[l] > a[largest]):\n",
    "        largest = l\n",
    "\n",
    "    # Если значение левого ребёнка наибольшее\n",
    "    if (r < size and a[r] > a[largest]):\n",
    "        largest = r\n",
    "\n",
    "    # Если нашлось значение больше значения корня\n",
    "    if (largest != i):\n",
    "        a[i], a[largest] = a[largest], a[i]\n",
    "\n",
    "        # Рекурсивно заменяем корень с наибольшим значением\n",
    "        heapify(a, size, largest)\n",
    "\n",
    "def heap_sort(a):\n",
    "    size = len(a)\n",
    "    # Построение кучи\n",
    "    for i in range(size-1, 0, -1):\n",
    "        heapify(a, size, i);\n",
    "\n",
    "    # Один за другим извлекаем элементы из кучи\n",
    "    for i in range(size-1, 0, -1):\n",
    "        # Перемещаем текущий корень в конец\n",
    "        a[0], a[i] = a[i], a[0]\n",
    "\n",
    "        # Вызываем heapify на меньшей куче\n",
    "        heapify(a, i, 0);\n",
    "\n",
    "def heap_sort2d(a):\n",
    "    for i in range(0, len(a)):\n",
    "        heap_sort(a[i])\n",
    "        \n",
    "m, n = 20, 20\n",
    "a = generate(m, n)\n",
    "#display(a)\n",
    "start_time = time.time()\n",
    "heap_sort2d(a)\n",
    "print(\"heap sort took %s seconds\" % (time.time() - start_time))\n",
    "#display(a)"
   ]
  },
  {
   "cell_type": "code",
   "execution_count": null,
   "id": "floppy-camera",
   "metadata": {},
   "outputs": [],
   "source": []
  }
 ],
 "metadata": {
  "kernelspec": {
   "display_name": "Python 3",
   "language": "python",
   "name": "python3"
  }
 },
 "nbformat": 4,
 "nbformat_minor": 5
}
