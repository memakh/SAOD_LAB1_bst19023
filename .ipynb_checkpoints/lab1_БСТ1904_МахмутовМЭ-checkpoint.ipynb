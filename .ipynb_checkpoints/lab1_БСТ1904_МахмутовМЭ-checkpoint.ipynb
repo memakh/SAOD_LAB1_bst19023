{
 "cells": [
  {
   "cell_type": "markdown",
   "id": "cardiovascular-parade",
   "metadata": {},
   "source": [
    "# Лабораторная работа №1\n",
    "## Выполнил студент группы БСТ1904 Махмутов М.Э.\n",
    "### Задание №1\n",
    "Получить основные навыки работы с jupyter notebook."
   ]
  },
  {
   "cell_type": "code",
   "execution_count": 2,
   "id": "utility-plane",
   "metadata": {},
   "outputs": [
    {
     "name": "stdout",
     "output_type": "stream",
     "text": [
      "Hello, world!\n"
     ]
    }
   ],
   "source": [
    "print(\"Hello, world!\")"
   ]
  },
  {
   "cell_type": "markdown",
   "id": "decreased-snapshot",
   "metadata": {},
   "source": [
    "### Задание №2\n",
    "Написать генератор случайных матриц(многомерных), который принимает опциональные параметры m, n, min_limit, max_limit, где m и n указывают размер матрицы, а min_lim и max_lim - минимальное и максимальное значение для генерируемого числа. По умолчанию при отсутствии параметров принимать следующие значения: \n",
    "m = 50\n",
    "n = 50\n",
    "min_limit = -250\n",
    "max_limit = 1000 + (номер своего варианта)"
   ]
  },
  {
   "cell_type": "code",
   "execution_count": 19,
   "id": "caring-sussex",
   "metadata": {},
   "outputs": [
    {
     "name": "stdout",
     "output_type": "stream",
     "text": [
      "\n",
      "-137  791  472  654  -46  493  922  361  392  326  189  925   55  726  699  655  548  564  746    2 \n",
      "-173  661  772  568  289   74 -128  528  861  181  -86  201  321  796  831  307  569  638 -223  144 \n",
      " 955    1  -40  -76 -109  -33  604 -190  -38  264  462  563   46 -163  -10  831  774  253  481  -31 \n",
      "  41  946  955  634  432  912  357  348 -142 -219  164  728  521  850  -70   65 -187  907  687  609 \n",
      " 373  775  399  -83  644  451  853  -85  603  551  667  -83  438  423  287   31  603  980  647  449 \n",
      " 524   77  463  271  927 -191 -179  540  274  488  595  677  628  885  732  101  761  885  704  505 \n",
      " 455  -92  -60  548  773  629  176  240  577  621   31  596 -110  582  -85  213  706  908  230  -58 \n",
      " 536 -131   29  980  154  -36 -224 -140  772   66  526  302  143  178  253  -22  498  816  326  517 \n",
      "-200  196  410    2  335  977  184  -54 -151  -75  622  347   34  122  736  797  275  384  137  872 \n",
      " 994  270  -99  103  493   -1 -101  727  830  943    5  429  669  819   45  391  474  588  377  554 \n",
      " 196  300  961  286  894  511  159  488 -147  944  225  358  968  521   47  206  238  857  649  696 \n",
      " 955 -162  981  497  565  700 -208  834  591   61 -240 1010  165  263  937  -50  687  106  -98 -208 \n",
      "  35  396  395   18 -202  267 -227  304  872   45 -212  749  790  -36  -94  483  638  338  668   87 \n",
      " -42   46   40  454  202  135  407  812  119  673  323  -46 -245 -200  856  864  293 -242  621  585 \n",
      " 584 -106  515  868   39  293  314  113  386  221 -117  209    7  283  219  107  273    9  524  519 \n",
      " 217  285  669  777  543  629  389  480  366  735  767  442  314  872  232  905  648  501  616  699 \n",
      " 817  524  305  325  474  325  618  368  871  339  883  232  889  164 1008  284  204  -27  849  894 \n",
      " 128    7  863  -57 -214  414 -176  512  142  100  796  137  984  -88 -149  657  524 -197  618 -201 \n",
      " 133  135  994  703  757  994  -71   43  845  738  -40  297  -15  278  829  764    4  454  373   84 \n",
      " 535  817 -186   17  243  686 -138   74  246  173  693  290  150  350  673 -137  882  772  619  924 "
     ]
    }
   ],
   "source": [
    "import random as rnd\n",
    "\n",
    "# Для генерации двумерной матрицы, заполнение листа\n",
    "def generate(m = 50, n = 50, min_limit = -250, max_limit = 1011):\n",
    "    a = []\n",
    "    for i in range(m):\n",
    "        a.append([])\n",
    "        for j in range(n):\n",
    "            r = rnd.randint(min_limit, max_limit)\n",
    "            a[i].append(r)\n",
    "    return a\n",
    "\n",
    "# Для вывода двумерной матрицы\n",
    "def display(a):\n",
    "    for line in a:\n",
    "        print()\n",
    "        for elem in line:\n",
    "            print(f'{elem:4}', end = ' ')\n",
    "\n",
    "m, n = 20, 20\n",
    "a = generate(m, n)\n",
    "display(a)"
   ]
  },
  {
   "cell_type": "markdown",
   "id": "iraqi-edgar",
   "metadata": {},
   "source": [
    "### Задание №3\n",
    "Реализовать методы сортировки строк числовой матрицы в соответствии с\n",
    "заданием. Оценить время работы каждого алгоритма сортировки и сравнить его со\n",
    "временем стандартной функции сортировки. Испытания проводить на сгенерированных\n",
    "матрицах.\n",
    "Методы: Выбором, Вставкой, Обменом, Шелла, Турнирная, Быстрая сортировка, Пирамидальная"
   ]
  },
  {
   "cell_type": "code",
   "execution_count": 102,
   "id": "contrary-flexibility",
   "metadata": {},
   "outputs": [
    {
     "name": "stdout",
     "output_type": "stream",
     "text": [
      "selection sort took 0.009001731872558594 seconds\n"
     ]
    }
   ],
   "source": [
    "import time\n",
    "\n",
    "# Сортировка строк выбором\n",
    "def selection_sort(a):\n",
    "    for line in a:\n",
    "        # Ищем индекс минимального элемента, перемещаем к уже отсортированной части\n",
    "        size = len(line)\n",
    "        for i in range(0, size):\n",
    "            min_j = i\n",
    "            for j in range(i + 1, size):\n",
    "                if (line[j] < line[min_j]):\n",
    "                    min_j = j\n",
    "            if (min_j != i):\n",
    "                # Меняем минимальный элемент с элементом после отсортированной части\n",
    "                line[i], line[min_j] = line[min_j], line[i]\n",
    "\n",
    "m, n = 50, 50\n",
    "a = generate(m, n)\n",
    "start_time = time.time()\n",
    "selection_sort(a)\n",
    "print(\"selection sort took %s seconds\" % (time.time() - start_time))\n",
    "#display(a)"
   ]
  },
  {
   "cell_type": "code",
   "execution_count": 84,
   "id": "detected-europe",
   "metadata": {
    "scrolled": true
   },
   "outputs": [
    {
     "name": "stdout",
     "output_type": "stream",
     "text": [
      "insertion sort took 0.00902247428894043 seconds\n"
     ]
    }
   ],
   "source": [
    "# Сортировка Вставкой\n",
    "def insertion_sort(a):\n",
    "    for line in a:\n",
    "       # Ищем куда нужно вставить очередной элемент, чтобы сохранилась отсортированная часть\n",
    "        size = len(line)\n",
    "        for i in range(1, size):\n",
    "            key = line[i]\n",
    "            j = i - 1\n",
    "            while (i > 0 and line[i] > key):\n",
    "                line[i + 1] = line[i]\n",
    "                i = i - 1\n",
    "            line[i + 1] = key\n",
    "\n",
    "m, n = 50, 50\n",
    "a = generate(m, n)\n",
    "start_time = time.time()\n",
    "selection_sort(a)\n",
    "print(\"insertion sort took %s seconds\" % (time.time() - start_time))\n",
    "#display(a)"
   ]
  },
  {
   "cell_type": "code",
   "execution_count": 101,
   "id": "laden-chaos",
   "metadata": {},
   "outputs": [
    {
     "name": "stdout",
     "output_type": "stream",
     "text": [
      "bubble sort took 0.01000213623046875 seconds\n"
     ]
    }
   ],
   "source": [
    "import time\n",
    "\n",
    "# Сортировка Обменом\n",
    "def bubble_sort(a):\n",
    "    for line in a:\n",
    "       # Проходим по списку и меняем соседние элементы\n",
    "        size = len(line)\n",
    "        swapped = True\n",
    "        while swapped:\n",
    "            swapped = False\n",
    "            for i in range(0, size - 1):\n",
    "                if (line[i] > line[i + 1]):\n",
    "                    line[i], line[i + 1] = line[i + 1], line[i]\n",
    "                    swapped = True\n",
    "\n",
    "m, n = 50, 50\n",
    "a = generate(m, n)\n",
    "start_time = time.time()\n",
    "selection_sort(a)\n",
    "print(\"bubble sort took %s seconds\" % (time.time() - start_time))\n",
    "#display(a)"
   ]
  },
  {
   "cell_type": "code",
   "execution_count": 105,
   "id": "american-hypothetical",
   "metadata": {},
   "outputs": [
    {
     "name": "stdout",
     "output_type": "stream",
     "text": [
      "shell sort took 0.009001970291137695 seconds\n"
     ]
    }
   ],
   "source": [
    "import time\n",
    "\n",
    "# Сортировка Шелла\n",
    "def shell_sort(a):\n",
    "    for line in a:\n",
    "        last_index = len(line) - 1\n",
    "        step = len(line)//2\n",
    "        while step > 0:\n",
    "            for i in range(step, last_index + 1, 1):\n",
    "                j = i\n",
    "                delta = j - step\n",
    "                while delta >= 0 and line[delta] > line[j]:\n",
    "                    line[delta], line[j] = line[j], line[delta]\n",
    "                    j = delta\n",
    "                    delta = j - step\n",
    "            step //= 2\n",
    "\n",
    "m, n = 50, 50\n",
    "a = generate(m, n)\n",
    "start_time = time.time()\n",
    "selection_sort(a)\n",
    "print(\"shell sort took %s seconds\" % (time.time() - start_time))\n",
    "#display(a)"
   ]
  },
  {
   "cell_type": "code",
   "execution_count": 20,
   "id": "sought-cleaning",
   "metadata": {
    "scrolled": true
   },
   "outputs": [
    {
     "name": "stdout",
     "output_type": "stream",
     "text": [
      "tournament sort took 0.023980379104614258 seconds\n",
      "\n",
      "-224 -201 -147  -48  102  183  249  324  440  506  569  714  754  796  807  859  927  942  972  992 \n",
      "-220 -206 -200 -200  -42   -4    8  198  241  281  317  331  415  457  539  539  566  612  723  994 \n",
      "-213 -122  -89  -66  -44   35   47   62   70   94  285  318  448  549  562  811  888  897  897  979 \n",
      "-157  -93   89  214  299  365  387  390  390  475  596  605  611  854  861  866  879  895  929  940 \n",
      "-245 -128   11   90  164  238  242  244  266  293  472  474  477  509  573  648  742  799  867  913 \n",
      "-233 -221 -184  -73  -47   62  162  203  215  378  433  501  603  630  659  669  862  865  953  973 \n",
      "-236  -39  -27   43   69   93  179  210  248  257  349  512  513  682  729  775  858  873  948  951 \n",
      "-206 -195  -91  -69  -57  -40  -19   24  188  206  447  533  541  567  713  828  902  940  968  988 \n",
      "-198  -13   99  101  116  117  269  296  308  417  515  672  715  736  760  797  843  857  858  925 \n",
      "-146 -133  -62   66   67   99  121  122  147  155  244  247  488  581  742  791  852  861  899 1005 \n",
      "-190  -75    2  122  157  243  270  359  390  406  410  591  668  707  709  709  732  756  779  795 \n",
      "-204 -185  263  263  264  317  438  543  544  584  591  630  657  700  727  801  882  918  933  953 \n",
      "-179 -164 -148  -92  -56  -16    8   35   80  101  104  156  282  344  410  422  542  577  660  965 \n",
      "-214 -152  -14    9   46   49   72  115  145  243  297  349  426  542  557  615  659  815  822  825 \n",
      "-229 -227    5   20   35  102  109  183  190  265  300  309  500  582  639  782  785  931  937 1008 \n",
      "-156  -65  -53  -41  -37   28  240  344  422  485  504  525  539  602  641  663  679  695  695  753 \n",
      "-174 -121   -8   89  166  203  266  315  347  373  504  505  516  520  574  650  715  763  916  932 \n",
      "-168  -36   -4   41   56  230  251  276  457  530  540  694  734  763  805  846  870  893  952 1007 \n",
      "-152 -119  -25   69   80  133  160  180  190  271  430  566  658  699  776  846  863  898  937 1001 \n",
      "-133 -127  -51  -41   19   59  232  240  293  298  350  423  456  584  596  627  735  761  775  778 "
     ]
    }
   ],
   "source": [
    "import time\n",
    "import math\n",
    "\n",
    "# Турнирная сортировка\n",
    "INF = 99999\n",
    "\n",
    "#Создние турнирного дерева\n",
    "def build_tree(array):\n",
    "    height = math.ceil(math.log2(len(array))) + 1\n",
    "    size = int(math.pow(2, height)) - 1\n",
    "    #print(size)\n",
    "    tree = [INF]*size\n",
    "    j = 0 # индекс для заполнения последней строки\n",
    "    for i in range(0, size):\n",
    "        left_idx = 2*i + 1\n",
    "        right_idx = 2*i + 2\n",
    "        if left_idx >= size and right_idx >= size:\n",
    "            if (j < len(array)):\n",
    "                tree[i] = array[j]\n",
    "                j += 1\n",
    "        else:\n",
    "            tree[i] = tree[i]\n",
    "    return tree\n",
    "\n",
    "#Сравниваем элементы\n",
    "def complete_tree(tree, i):\n",
    "    size = len(tree) - 1\n",
    "    left_idx = 2*i + 1\n",
    "    right_idx = 2*i + 2\n",
    "    if (left_idx >= size and right_idx >= size):\n",
    "        return tree[i]\n",
    "    tree[i] = min(complete_tree(tree, left_idx), complete_tree(tree, right_idx))\n",
    "    return tree[i]\n",
    "\n",
    "#для нахождения индекса победившего элемента\n",
    "def leaf(tree, i, size):\n",
    "    left_idx = 2*i + 1\n",
    "    right_idx = 2*i + 2\n",
    "    while left_idx < size and right_idx < size:\n",
    "        if (tree[i] == tree[left_idx]):\n",
    "            i = left_idx\n",
    "        elif (tree[i] == tree[right_idx]):\n",
    "            i = right_idx\n",
    "        else:\n",
    "            print(\"leaf not found\")\n",
    "            return i\n",
    "        left_idx = 2*i + 1\n",
    "        right_idx = 2*i + 2\n",
    "    return i\n",
    "\n",
    "def tournament_sort(array):\n",
    "    x = []\n",
    "    tree = build_tree(array)\n",
    "    height = math.ceil(math.log2(len(array))) + 1\n",
    "    size = len(tree)   \n",
    "    while len(x) != len(array):\n",
    "        elem = complete_tree(tree, 0)\n",
    "        #print(x)\n",
    "        #print(tree)\n",
    "        x.append(elem)\n",
    "        m=leaf(tree, 0,size)\n",
    "        tree[m] = INF\n",
    "    return x\n",
    "\n",
    "def tournament_sort2d(a):\n",
    "    for i in range(0, len(a)):\n",
    "        a[i] = tournament_sort(a[i])\n",
    "                   \n",
    "m, n = 20, 20\n",
    "a = generate(m, n)\n",
    "start_time = time.time()\n",
    "tournament_sort2d(a)\n",
    "print(\"tournament sort took %s seconds\" % (time.time() - start_time))\n",
    "#display(a)\n"
   ]
  },
  {
   "cell_type": "code",
   "execution_count": 12,
   "id": "consistent-playing",
   "metadata": {},
   "outputs": [
    {
     "ename": "NameError",
     "evalue": "name 'generate' is not defined",
     "output_type": "error",
     "traceback": [
      "\u001b[1;31m---------------------------------------------------------------------------\u001b[0m",
      "\u001b[1;31mNameError\u001b[0m                                 Traceback (most recent call last)",
      "\u001b[1;32m<ipython-input-12-056fee6bcf65>\u001b[0m in \u001b[0;36m<module>\u001b[1;34m\u001b[0m\n\u001b[0;32m     24\u001b[0m \u001b[1;33m\u001b[0m\u001b[0m\n\u001b[0;32m     25\u001b[0m \u001b[0mm\u001b[0m\u001b[1;33m,\u001b[0m \u001b[0mn\u001b[0m \u001b[1;33m=\u001b[0m \u001b[1;36m20\u001b[0m\u001b[1;33m,\u001b[0m \u001b[1;36m20\u001b[0m\u001b[1;33m\u001b[0m\u001b[1;33m\u001b[0m\u001b[0m\n\u001b[1;32m---> 26\u001b[1;33m \u001b[0ma\u001b[0m \u001b[1;33m=\u001b[0m \u001b[0mgenerate\u001b[0m\u001b[1;33m(\u001b[0m\u001b[0mm\u001b[0m\u001b[1;33m,\u001b[0m \u001b[0mn\u001b[0m\u001b[1;33m)\u001b[0m\u001b[1;33m\u001b[0m\u001b[1;33m\u001b[0m\u001b[0m\n\u001b[0m\u001b[0;32m     27\u001b[0m \u001b[1;31m#display(a)\u001b[0m\u001b[1;33m\u001b[0m\u001b[1;33m\u001b[0m\u001b[1;33m\u001b[0m\u001b[0m\n\u001b[0;32m     28\u001b[0m \u001b[0mstart_time\u001b[0m \u001b[1;33m=\u001b[0m \u001b[0mtime\u001b[0m\u001b[1;33m.\u001b[0m\u001b[0mtime\u001b[0m\u001b[1;33m(\u001b[0m\u001b[1;33m)\u001b[0m\u001b[1;33m\u001b[0m\u001b[1;33m\u001b[0m\u001b[0m\n",
      "\u001b[1;31mNameError\u001b[0m: name 'generate' is not defined"
     ]
    }
   ],
   "source": [
    "import time\n",
    "\n",
    "# Быстрая сортировка\n",
    "def quick_sort(a):\n",
    "    less = []\n",
    "    equal = []\n",
    "    greater = []\n",
    "    if len(a) > 1:\n",
    "        pivot = a[0]\n",
    "        for x in a:\n",
    "            if x < pivot:\n",
    "                less.append(x)\n",
    "            elif x == pivot:\n",
    "                equal.append(x)\n",
    "            elif x > pivot:\n",
    "                greater.append(x)\n",
    "        return quick_sort(less)+equal+quick_sort(greater)\n",
    "    else:\n",
    "        return a\n",
    "\n",
    "def quick_sort2d(a):\n",
    "    for i in range(0, len(a)):\n",
    "        a[i] = quick_sort(a[i])\n",
    "        \n",
    "m, n = 20, 20\n",
    "a = generate(m, n)\n",
    "#display(a)\n",
    "start_time = time.time()\n",
    "quick_sort2d(a)\n",
    "print(\"quick sort took %s seconds\" % (time.time() - start_time))\n",
    "#display(a)"
   ]
  },
  {
   "cell_type": "code",
   "execution_count": 83,
   "id": "serious-active",
   "metadata": {},
   "outputs": [
    {
     "name": "stdout",
     "output_type": "stream",
     "text": [
      "heap sort took 0.0009970664978027344 seconds\n"
     ]
    }
   ],
   "source": [
    "import time\n",
    "\n",
    "# Пирамидальная сортировка\n",
    "def heapify(a, size, i):\n",
    "    largest = i   # Индекс наибольшего значения как значение корня\n",
    "    l = 2 * i + 1 # Индекс левого ребёнка = 2*i + 1 \n",
    "    r = 2 * i + 2 # Индекс правого ребёнка = 2*i + 2\n",
    "    \n",
    "    # Если значение левого ребёнка наибольшее\n",
    "    if (l < size and a[l] > a[largest]):\n",
    "        largest = l\n",
    "\n",
    "    # Если значение левого ребёнка наибольшее\n",
    "    if (r < size and a[r] > a[largest]):\n",
    "        largest = r\n",
    "\n",
    "    # Если нашлось значение больше значения корня\n",
    "    if (largest != i):\n",
    "        a[i], a[largest] = a[largest], a[i]\n",
    "\n",
    "        # Рекурсивно заменяем корень с наибольшим значением\n",
    "        heapify(a, size, largest)\n",
    "\n",
    "def heap_sort(a):\n",
    "    size = len(a)\n",
    "    # Построение кучи\n",
    "    for i in range(size-1, 0, -1):\n",
    "        heapify(a, size, i);\n",
    "\n",
    "    # Один за другим извлекаем элементы из кучи\n",
    "    for i in range(size-1, 0, -1):\n",
    "        # Перемещаем текущий корень в конец\n",
    "        a[0], a[i] = a[i], a[0]\n",
    "\n",
    "        # Вызываем heapify на меньшей куче\n",
    "        heapify(a, i, 0);\n",
    "\n",
    "def heap_sort2d(a):\n",
    "    for i in range(0, len(a)):\n",
    "        heap_sort(a[i])\n",
    "        \n",
    "m, n = 20, 20\n",
    "a = generate(m, n)\n",
    "#display(a)\n",
    "start_time = time.time()\n",
    "heap_sort2d(a)\n",
    "print(\"heap sort took %s seconds\" % (time.time() - start_time))\n",
    "#display(a)"
   ]
  },
  {
   "cell_type": "code",
   "execution_count": null,
   "id": "aggregate-worker",
   "metadata": {},
   "outputs": [],
   "source": []
  }
 ],
 "metadata": {
  "kernelspec": {
   "display_name": "Python 3",
   "language": "python",
   "name": "python3"
  },
  "language_info": {
   "codemirror_mode": {
    "name": "ipython",
    "version": 3
   },
   "file_extension": ".py",
   "mimetype": "text/x-python",
   "name": "python",
   "nbconvert_exporter": "python",
   "pygments_lexer": "ipython3",
   "version": "3.9.2"
  }
 },
 "nbformat": 4,
 "nbformat_minor": 5
}
