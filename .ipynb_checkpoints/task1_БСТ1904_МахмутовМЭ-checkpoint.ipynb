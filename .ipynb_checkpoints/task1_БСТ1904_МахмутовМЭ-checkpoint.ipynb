{
 "cells": [
  {
   "cell_type": "markdown",
   "id": "moving-wrapping",
   "metadata": {},
   "source": [
    "# Задача 1. «Треугольник с максимальным периметром»\n",
    "Массив A состоит из целых положительных чисел длин отрезков. Составьте из трех отрезков такой треугольник, чтобы его периметр был максимально возможным. Если невозможносоставить треугольник с положительной площадью функция возвращает 0."
   ]
  },
  {
   "cell_type": "code",
   "execution_count": 26,
   "id": "handed-entrance",
   "metadata": {},
   "outputs": [
    {
     "name": "stdout",
     "output_type": "stream",
     "text": [
      "unsorted: [411137, 56427, 502819, 728149, 355078, 761969, 397174, 408543, 215705, 381609]\n",
      "sorted: [761969, 728149, 502819, 411137, 408543, 397174, 381609, 355078, 215705, 56427]\n",
      "max perimeter: [1992937]\n"
     ]
    }
   ],
   "source": [
    "import random as rnd\n",
    "\n",
    "# Для генерации массива\n",
    "def generate(m = 10, min_limit = 1, max_limit = 10**6):\n",
    "    array = []\n",
    "    for i in range(m):\n",
    "        r = rnd.randint(min_limit, max_limit)\n",
    "        array.append(r)\n",
    "    return array\n",
    "\n",
    "def max_perimeter(numbers):\n",
    "    numbers.sort(reverse=True)\n",
    "    for i in range(0, len(numbers) - 2):\n",
    "        if (numbers[i+1] + numbers[i+2] > numbers[i]):\n",
    "            return [numbers[i] + numbers[i+1] + numbers[i+2]]\n",
    "    return 0\n",
    "\n",
    "a = generate()\n",
    "print(\"unsorted:\", a)\n",
    "n = max_perimeter(a)\n",
    "print(\"sorted:\", a)\n",
    "print(\"max perimeter:\", n)"
   ]
  },
  {
   "cell_type": "markdown",
   "id": "christian-variation",
   "metadata": {},
   "source": [
    "# Задача 2. «Максимальное число»\n",
    "Дан массив неотрицательных целых чисел nums. Расположите их в таком порядке, чтобы вместе они образовали максимально возможное число.\n",
    "Замечание: Результат может быть очень большим числом, поэтому представьте его как string, а не integer."
   ]
  },
  {
   "cell_type": "code",
   "execution_count": 49,
   "id": "fantastic-divorce",
   "metadata": {},
   "outputs": [
    {
     "name": "stdout",
     "output_type": "stream",
     "text": [
      "9\n",
      "[9, 98, 999, 81, 87, 888, 765]\n"
     ]
    }
   ],
   "source": [
    "import random as rnd\n",
    "import math\n",
    "\n",
    "# Для генерации массива\n",
    "def generate(m = 10, min_limit = 1, max_limit = 10**9):\n",
    "    array = []\n",
    "    for i in range(m):\n",
    "        r = rnd.randint(min_limit, max_limit)\n",
    "        array.append(r)\n",
    "    return array\n",
    "\n",
    "# Для нахождения цифры числа\n",
    "def get_nth_digit(num, n):\n",
    "    return num // 10**n % 10\n",
    "\n",
    "# Сравниваем числа по цифрам - 9 > 98; 87 > 765;\n",
    "def compare_digitwise(n1, n2):\n",
    "    i = 1\n",
    "    d1 = get_nth_digit(n1, i)\n",
    "    d2 = get_nth_digit(n2, i)\n",
    "    while (d1 != 0 and d2 != 0):\n",
    "        if (d1 > d2):\n",
    "            return True\n",
    "        elif (d2 > d1):\n",
    "            return False\n",
    "        i += 1\n",
    "        d1 = get_nth_digit(n1, i)\n",
    "        d2 = get_nth_digit(n2, i)\n",
    "    if (n1 < n2):\n",
    "        return True\n",
    "    else:\n",
    "        return False\n",
    "\n",
    "# Пузырьковая сортировка на основе созданного сравнения\n",
    "def sort_digitwise(nums):\n",
    "    # Проходим по списку и меняем соседние элементы\n",
    "    size = len(nums)\n",
    "    swapped = True\n",
    "    while swapped:\n",
    "        swapped = False\n",
    "        for i in range(0, size - 1):\n",
    "            if (compare_digitwise(nums[i+1], nums[i])):\n",
    "                nums[i], nums[i+1] = nums[i+1], nums[i]\n",
    "                swapped = True\n",
    "    return nums\n",
    "    \n",
    "print(get_nth_digit(98, 1))\n",
    "\n",
    "a = [9, 98, 999, 87, 765, 888, 81]\n",
    "print(\"sorted:\", sort_digitwise(a))"
   ]
  },
  {
   "cell_type": "markdown",
   "id": "operating-worcester",
   "metadata": {},
   "source": [
    "# Задача 3. «Сортировка диагоналей в матрице»\n",
    "Дана матриц аma tразмером m * n, значения целочисленные. Напишите функцию, сортирующую каждую диагональ матрицы по возрастанию и возвращающую получившуюся матрицу."
   ]
  },
  {
   "cell_type": "code",
   "execution_count": 66,
   "id": "duplicate-hurricane",
   "metadata": {},
   "outputs": [
    {
     "name": "stdout",
     "output_type": "stream",
     "text": [
      "\n",
      " 16  56  19  43  52 \n",
      " 17  27  60  55  59 \n",
      " 15  21  45  67  71 \n",
      " 20  22  28  71  99 "
     ]
    }
   ],
   "source": [
    "# Для генерации двумерной матрицы, заполнение листа\n",
    "def generate(m = 4, n = 5, min_limit = 1, max_limit = 100):\n",
    "    a = []\n",
    "    for i in range(m):\n",
    "        a.append([])\n",
    "        for j in range(n):\n",
    "            r = rnd.randint(min_limit, max_limit)\n",
    "            a[i].append(r)\n",
    "    return a\n",
    "\n",
    "# Для вывода двумерной матрицы\n",
    "def display(a):\n",
    "    for line in a:\n",
    "        print()\n",
    "        for elem in line:\n",
    "            print(f'{elem:3}', end = ' ')\n",
    "\n",
    "def sort_diagonal(array):\n",
    "    m = len(array)\n",
    "    n = len(array[0])\n",
    "    for diagonal in range(m):\n",
    "        tosort = []\n",
    "        i = diagonal\n",
    "        j = 0\n",
    "        while (i < m and j < n):\n",
    "            tosort.append(array[i][j])\n",
    "            i += 1\n",
    "            j += 1\n",
    "        tosort.sort()\n",
    "        i = diagonal\n",
    "        j = 0\n",
    "        while (i < m and j < n):\n",
    "            array[i][j] = tosort[j]\n",
    "            i += 1\n",
    "            j += 1\n",
    "    for diagonal in range(1, n):\n",
    "        tosort = []\n",
    "        i = 0\n",
    "        j = diagonal\n",
    "        while (i < m and j < n):\n",
    "            tosort.append(array[i][j])\n",
    "            i += 1\n",
    "            j += 1\n",
    "        tosort.sort()\n",
    "        i = 0\n",
    "        j = diagonal\n",
    "        while (i < m and j < n):\n",
    "            array[i][j] = tosort[i]\n",
    "            i += 1\n",
    "            j += 1\n",
    "    return array\n",
    "        \n",
    "    \n",
    "a = generate()\n",
    "a = sort_diagonal(a)\n",
    "display(a)"
   ]
  },
  {
   "cell_type": "code",
   "execution_count": null,
   "id": "british-sunset",
   "metadata": {},
   "outputs": [],
   "source": []
  }
 ],
 "metadata": {
  "kernelspec": {
   "display_name": "Python 3",
   "language": "python",
   "name": "python3"
  },
  "language_info": {
   "codemirror_mode": {
    "name": "ipython",
    "version": 3
   },
   "file_extension": ".py",
   "mimetype": "text/x-python",
   "name": "python",
   "nbconvert_exporter": "python",
   "pygments_lexer": "ipython3",
   "version": "3.8.3"
  }
 },
 "nbformat": 4,
 "nbformat_minor": 5
}
